{
 "cells": [
  {
   "cell_type": "code",
   "execution_count": 10,
   "id": "b1bd0bea-9450-4098-991d-26bb94b197a0",
   "metadata": {
    "tags": []
   },
   "outputs": [
    {
     "data": {
      "application/vnd.jupyter.widget-view+json": {
       "model_id": "",
       "version_major": 2,
       "version_minor": 0
      },
      "text/plain": [
       "FloatProgress(value=0.0, bar_style='info', description='Progress:', layout=Layout(height='25px', width='50%'),…"
      ]
     },
     "metadata": {},
     "output_type": "display_data"
    },
    {
     "name": "stdout",
     "output_type": "stream",
     "text": [
      "Age Group Counts: defaultdict(<class 'int'>, {'Adult': 121052, 'Young Adult': 33588, 'Child': 15923, 'Senior': 5985})\n",
      "Time taken: 17.82 seconds"
     ]
    }
   ],
   "source": [
    "from pyspark.sql import SparkSession\n",
    "# from pyspark.sql import functions as F\n",
    "import time\n",
    "\n",
    "# Initialize SparkSession\n",
    "spark = SparkSession.builder \\\n",
    "    .appName(\"Query1_RDD\") \\\n",
    "    .config(\"spark.executor.instances\", 4) \\\n",
    "    .getOrCreate()\n",
    "\n",
    "# Start timing\n",
    "start_time = time.time()\n",
    "\n",
    "# Load crime data\n",
    "# Load the 2010-2019 crime data\n",
    "crime_df_2010_2019 = spark.read.csv(\n",
    "    \"s3://initial-notebook-data-bucket-dblab-905418150721/CrimeData/Crime_Data_from_2010_to_2019_20241101.csv\", \n",
    "    header=True\n",
    ")\n",
    "\n",
    "# Load the 2020-present crime data\n",
    "crime_df_2020_present = spark.read.csv(\n",
    "    \"s3://initial-notebook-data-bucket-dblab-905418150721/CrimeData/Crime_Data_from_2020_to_Present_20241101.csv\", \n",
    "    header=True\n",
    ")\n",
    "crime_df = crime_df_2010_2019.union(crime_df_2020_present)\n",
    "\n",
    "crime_rdd = crime_df.rdd\n",
    "\n",
    "\n",
    "# Function to filter and process the data as you did before\n",
    "def process_row(row):\n",
    "    try:\n",
    "        age = int(row['Vict Age'])  # Access column by name\n",
    "    except (ValueError, TypeError):\n",
    "        age = None  # Handle missing or malformed age data\n",
    "    \n",
    "    # Validate Latitude and Longitude (ensure they are not null or zero)\n",
    "    lat = row['LAT']\n",
    "    lon = row['LON']\n",
    "    if lat and lon and lat != '0' and lon != '0':\n",
    "        # Check for \"Aggravated Assault\" in the crime description\n",
    "        if \"aggravated assault\" in row['Crm Cd Desc'].lower().strip():\n",
    "            # Filtering based on age and classifying into categories\n",
    "            if age is not None:\n",
    "                if age < 18:\n",
    "                    return ('Child', 1)\n",
    "                elif 18 <= age <= 24:\n",
    "                    return ('Young Adult', 1)\n",
    "                elif 25 <= age <= 64:\n",
    "                    return ('Adult', 1)\n",
    "                else:\n",
    "                    return ('Senior', 1)\n",
    "    return None  # Exclude rows that do not match the criteria\n",
    "\n",
    "\n",
    "# Apply the processing function to the RDD\n",
    "age_groups_rdd = crime_rdd.map(process_row).filter(lambda x: x is not None)\n",
    "\n",
    "# Count the occurrences of each age group (Child, Young Adult, Adult, Senior)\n",
    "age_groups_count = age_groups_rdd.countByKey()\n",
    "\n",
    "# Print the results\n",
    "print(\"Age Group Counts:\", age_groups_count)\n",
    "\n",
    "# Stop timing and print out the execution duration\n",
    "end_time = time.time()\n",
    "elapsed_time = end_time - start_time\n",
    "print(f\"Time taken: {elapsed_time:.2f} seconds\")\n",
    "\n"
   ]
  },
  {
   "cell_type": "code",
   "execution_count": null,
   "id": "92bebb78-c8a8-4751-b066-63c82357d179",
   "metadata": {},
   "outputs": [],
   "source": []
  }
 ],
 "metadata": {
  "kernelspec": {
   "display_name": "Sparkmagic (PySpark)",
   "language": "python",
   "name": "pysparkkernel"
  },
  "language_info": {
   "codemirror_mode": {
    "name": "python",
    "version": 3
   },
   "file_extension": ".py",
   "mimetype": "text/x-python",
   "name": "pyspark",
   "pygments_lexer": "python3"
  }
 },
 "nbformat": 4,
 "nbformat_minor": 5
}
