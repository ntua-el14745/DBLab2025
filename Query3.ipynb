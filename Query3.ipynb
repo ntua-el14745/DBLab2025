{
 "cells": [
  {
   "cell_type": "code",
   "execution_count": null,
   "id": "730c9c0b-1484-4a22-b34d-f38be9587aba",
   "metadata": {
    "tags": []
   },
   "outputs": [
    {
     "data": {
      "application/vnd.jupyter.widget-view+json": {
       "model_id": "be8045e88bd948c49b939941cfd46016",
       "version_major": 2,
       "version_minor": 0
      },
      "text/plain": [
       "FloatProgress(value=0.0, bar_style='info', description='Progress:', layout=Layout(height='25px', width='50%'),…"
      ]
     },
     "metadata": {},
     "output_type": "display_data"
    }
   ],
   "source": [
    "from pyspark.sql import SparkSession, functions as F\n",
    "from sedona.register.geo_registrator import SedonaRegistrator\n",
    "from sedona.spark import SedonaContext\n",
    "from pyspark.sql.types import StringType\n",
    "\n",
    "# Initialize Spark Session and Sedona Context\n",
    "spark = SparkSession.builder \\\n",
    "    .appName(\"CrimeAnalysisSpatialJoinSQL\") \\\n",
    "    .config(\"spark.sql.extensions\", \"org.apache.sedona.sql.SedonaSqlExtensions\") \\\n",
    "    .config(\"sedona.global.charset\", \"utf8\") \\\n",
    "    .getOrCreate()\n",
    "\n",
    "sedona = SedonaContext.create(spark)\n",
    "\n",
    "# Load datasets\n",
    "census_path = \"s3://initial-notebook-data-bucket-dblab-905418150721/2010_Census_Blocks.geojson\"\n",
    "income_path = \"s3://initial-notebook-data-bucket-dblab-905418150721/LA_income_2015.csv\"\n",
    "crime_path = \"s3://groups-bucket-dblab-905418150721/group24/results/q2_parquet_maindata/\"\n",
    "\n",
    "# Load Census Data (GeoJSON format)\n",
    "census_df = sedona.read.format(\"geojson\") \\\n",
    "    .option(\"multiLine\", \"true\").load(census_path) \\\n",
    "    .selectExpr(\"explode(features) as features\") \\\n",
    "    .select(\"features.*\")\n",
    "\n",
    "# Flatten the GeoJSON structure and filter valid populations\n",
    "census_df = census_df.select(\n",
    "    F.col(\"properties.ZCTA10\").alias(\"ZCTA10\"),\n",
    "    F.col(\"properties.POP_2010\").alias(\"Population\"),\n",
    "    F.col(\"properties.COMM\").alias(\"COMM\"),\n",
    "    F.col(\"geometry\").alias(\"geometry\"),\n",
    "    F.col(\"properties.HOUSING10\").alias(\"Total_Households\"),\n",
    ").filter(F.col(\"Population\") > 0)  # Exclude zero or negative population\n",
    "\n",
    "# Load Crime Data (Parquet format)\n",
    "crime_df = spark.read.parquet(crime_path)\n",
    "\n",
    "# Create geometry column using ST_Point\n",
    "crime_df = crime_df.withColumn(\"geometry\", F.expr(\"ST_Point(LON, LAT)\")) \\\n",
    "                   .select(\"geometry\")\n",
    "\n",
    "# Load Income Data (CSV format)\n",
    "income_df = spark.read.csv(income_path, header=True, inferSchema=True)\n",
    "income_df = income_df.withColumn(\n",
    "    \"Income\",\n",
    "    F.regexp_replace(F.col(\"Estimated Median Income\"), \"[$,]\", \"\").cast(\"double\")\n",
    ").withColumnRenamed(\"Zip Code\",\"Zip\").drop(\"Estimated Median Income\")\n",
    "\n",
    "census_income_joined = census_df.join(\n",
    "    income_df,\n",
    "    census_df[\"ZCTA10\"] == income_df[\"Zip\"],\n",
    "    \"inner\"\n",
    ").select(\n",
    "    F.col(\"ZCTA10\"),\n",
    "    F.col(\"COMM\").alias(\"Community\"),\n",
    "    F.col(\"Population\"),\n",
    "    F.col(\"Total_Households\"),\n",
    "    F.col(\"Income\").alias(\"Median_Household_Income\")\n",
    ")\n",
    "\n",
    "community_aggregates = census_income_joined.groupBy(\"Community\").agg(\n",
    "    F.sum(\"Population\").alias(\"Total_Population\"),\n",
    "    F.sum(\"Total_Households\").alias(\"Total_Households\"),\n",
    "    F.avg(\"Median_Household_Income\").alias(\"Average_Median_Household_Income\")\n",
    ")\n",
    "community_income_per_person = community_aggregates.withColumn(\n",
    "    \"Total_Income\",\n",
    "    F.col(\"Average_Median_Household_Income\") * F.col(\"Total_Households\")\n",
    ").withColumn(\n",
    "    \"Mean_Income_Per_Person\",\n",
    "    F.col(\"Total_Income\") / F.col(\"Total_Population\")\n",
    ")\n",
    "crime_aggregates = crime_df.alias(\"cr\").join(\n",
    "    census_df.alias(\"c\"),\n",
    "    F.expr(\"ST_Within(cr.geometry, c.geometry)\"),\n",
    "    \"inner\"\n",
    ").groupBy(\"c.COMM\").agg(\n",
    "    F.count(\"*\").alias(\"Total_Crimes\")\n",
    ")\n",
    "final_results = community_income_per_person.join(\n",
    "    crime_aggregates,\n",
    "    community_income_per_person[\"Community\"] == crime_aggregates[\"COMM\"],\n",
    "    \"left\"\n",
    ").select(\n",
    "    F.col(\"Community\"),\n",
    "    F.col(\"Total_Population\"),\n",
    "    F.col(\"Mean_Income_Per_Person\"),\n",
    "    F.col(\"Total_Crimes\"),\n",
    "    (F.col(\"Total_Crimes\") / F.col(\"Total_Population\")).alias(\"Crime_Per_Person_Ratio\")\n",
    ")\n",
    "final_results = final_results.fillna({\"Total_Crimes\": 0}).withColumn(\n",
    "    \"Crime_Per_Person_Ratio\",\n",
    "    F.when(F.col(\"Total_Population\") > 0, F.col(\"Total_Crimes\") / F.col(\"Total_Population\")).otherwise(0)\n",
    ")\n",
    "\n",
    "final_results.show(150)\n",
    "final_results.count()"
   ]
  },
  {
   "cell_type": "code",
   "execution_count": 43,
   "id": "3fa13cc0-27ce-499d-b3d2-6c356ae45e8d",
   "metadata": {
    "tags": []
   },
   "outputs": [
    {
     "data": {
      "application/vnd.jupyter.widget-view+json": {
       "model_id": "",
       "version_major": 2,
       "version_minor": 0
      },
      "text/plain": [
       "FloatProgress(value=0.0, bar_style='info', description='Progress:', layout=Layout(height='25px', width='50%'),…"
      ]
     },
     "metadata": {},
     "output_type": "display_data"
    },
    {
     "name": "stdout",
     "output_type": "stream",
     "text": [
      "225"
     ]
    }
   ],
   "source": [
    "final_df.count()"
   ]
  },
  {
   "cell_type": "code",
   "execution_count": null,
   "id": "b6d3acc8-22b3-4b7c-b635-56756d875d83",
   "metadata": {},
   "outputs": [],
   "source": []
  }
 ],
 "metadata": {
  "kernelspec": {
   "display_name": "Sparkmagic (PySpark)",
   "language": "python",
   "name": "pysparkkernel"
  },
  "language_info": {
   "codemirror_mode": {
    "name": "python",
    "version": 3
   },
   "file_extension": ".py",
   "mimetype": "text/x-python",
   "name": "pyspark",
   "pygments_lexer": "python3"
  }
 },
 "nbformat": 4,
 "nbformat_minor": 5
}
